{
 "cells": [
  {
   "cell_type": "code",
   "execution_count": 25,
   "id": "e7c1bf52",
   "metadata": {},
   "outputs": [],
   "source": [
    "import pandas as pd"
   ]
  },
  {
   "cell_type": "code",
   "execution_count": 26,
   "id": "ee77a5bb",
   "metadata": {},
   "outputs": [],
   "source": [
    "rating = pd.read_csv('ratings.csv')"
   ]
  },
  {
   "cell_type": "code",
   "execution_count": 27,
   "id": "ddb78d13",
   "metadata": {},
   "outputs": [
    {
     "data": {
      "text/html": [
       "<div>\n",
       "<style scoped>\n",
       "    .dataframe tbody tr th:only-of-type {\n",
       "        vertical-align: middle;\n",
       "    }\n",
       "\n",
       "    .dataframe tbody tr th {\n",
       "        vertical-align: top;\n",
       "    }\n",
       "\n",
       "    .dataframe thead th {\n",
       "        text-align: right;\n",
       "    }\n",
       "</style>\n",
       "<table border=\"1\" class=\"dataframe\">\n",
       "  <thead>\n",
       "    <tr style=\"text-align: right;\">\n",
       "      <th></th>\n",
       "      <th>user_id</th>\n",
       "      <th>product_id</th>\n",
       "      <th>rating</th>\n",
       "      <th>timestamp</th>\n",
       "    </tr>\n",
       "  </thead>\n",
       "  <tbody>\n",
       "    <tr>\n",
       "      <th>0</th>\n",
       "      <td>AKM1MP6P0OYPR</td>\n",
       "      <td>0132793040</td>\n",
       "      <td>5.0</td>\n",
       "      <td>1365811200</td>\n",
       "    </tr>\n",
       "    <tr>\n",
       "      <th>1</th>\n",
       "      <td>A2CX7LUOHB2NDG</td>\n",
       "      <td>0321732944</td>\n",
       "      <td>5.0</td>\n",
       "      <td>1341100800</td>\n",
       "    </tr>\n",
       "    <tr>\n",
       "      <th>2</th>\n",
       "      <td>A2NWSAGRHCP8N5</td>\n",
       "      <td>0439886341</td>\n",
       "      <td>1.0</td>\n",
       "      <td>1367193600</td>\n",
       "    </tr>\n",
       "    <tr>\n",
       "      <th>3</th>\n",
       "      <td>A2WNBOD3WNDNKT</td>\n",
       "      <td>0439886341</td>\n",
       "      <td>3.0</td>\n",
       "      <td>1374451200</td>\n",
       "    </tr>\n",
       "    <tr>\n",
       "      <th>4</th>\n",
       "      <td>A1GI0U4ZRJA8WN</td>\n",
       "      <td>0439886341</td>\n",
       "      <td>1.0</td>\n",
       "      <td>1334707200</td>\n",
       "    </tr>\n",
       "  </tbody>\n",
       "</table>\n",
       "</div>"
      ],
      "text/plain": [
       "          user_id  product_id  rating   timestamp\n",
       "0   AKM1MP6P0OYPR  0132793040     5.0  1365811200\n",
       "1  A2CX7LUOHB2NDG  0321732944     5.0  1341100800\n",
       "2  A2NWSAGRHCP8N5  0439886341     1.0  1367193600\n",
       "3  A2WNBOD3WNDNKT  0439886341     3.0  1374451200\n",
       "4  A1GI0U4ZRJA8WN  0439886341     1.0  1334707200"
      ]
     },
     "execution_count": 27,
     "metadata": {},
     "output_type": "execute_result"
    }
   ],
   "source": [
    "rating.head()"
   ]
  },
  {
   "cell_type": "code",
   "execution_count": 28,
   "id": "68b2d065",
   "metadata": {},
   "outputs": [
    {
     "data": {
      "text/plain": [
       "476002"
      ]
     },
     "execution_count": 28,
     "metadata": {},
     "output_type": "execute_result"
    }
   ],
   "source": [
    "len(rating.product_id.unique())"
   ]
  },
  {
   "cell_type": "code",
   "execution_count": 29,
   "id": "b88bde8a",
   "metadata": {},
   "outputs": [],
   "source": [
    "products = pd.read_csv('product_data.csv')"
   ]
  },
  {
   "cell_type": "code",
   "execution_count": 30,
   "id": "fc4f4f95",
   "metadata": {},
   "outputs": [
    {
     "data": {
      "text/plain": [
       "58407"
      ]
     },
     "execution_count": 30,
     "metadata": {},
     "output_type": "execute_result"
    }
   ],
   "source": [
    "len(products.title.unique())"
   ]
  },
  {
   "cell_type": "code",
   "execution_count": 31,
   "id": "9c350928",
   "metadata": {},
   "outputs": [],
   "source": [
    "products.drop_duplicates(['title'], inplace=True,)"
   ]
  },
  {
   "cell_type": "code",
   "execution_count": 32,
   "id": "f4a93bc6",
   "metadata": {},
   "outputs": [
    {
     "data": {
      "text/plain": [
       "58407"
      ]
     },
     "execution_count": 32,
     "metadata": {},
     "output_type": "execute_result"
    }
   ],
   "source": [
    "len(products.title)"
   ]
  },
  {
   "cell_type": "code",
   "execution_count": 33,
   "id": "558e805b",
   "metadata": {},
   "outputs": [
    {
     "data": {
      "text/plain": [
       "402856"
      ]
     },
     "execution_count": 33,
     "metadata": {},
     "output_type": "execute_result"
    }
   ],
   "source": [
    "476002-73146"
   ]
  },
  {
   "cell_type": "code",
   "execution_count": 34,
   "id": "3d51b7e4",
   "metadata": {},
   "outputs": [
    {
     "data": {
      "text/plain": [
       "product_id  product_id\n",
       "0132793040  0132793040     1\n",
       "0321732944  0321732944     1\n",
       "0439886341  0439886341     3\n",
       "0511189877  0511189877     6\n",
       "0528881469  0528881469    27\n",
       "                          ..\n",
       "BT008G3W52  BT008G3W52     1\n",
       "BT008SXQ4C  BT008SXQ4C     1\n",
       "BT008T2BGK  BT008T2BGK     1\n",
       "BT008UKTMW  BT008UKTMW    15\n",
       "BT008V9J9U  BT008V9J9U     1\n",
       "Name: product_id, Length: 476002, dtype: int64"
      ]
     },
     "execution_count": 34,
     "metadata": {},
     "output_type": "execute_result"
    }
   ],
   "source": [
    "rating.groupby('product_id')['product_id'].value_counts()"
   ]
  },
  {
   "cell_type": "code",
   "execution_count": 35,
   "id": "7f74f1a1",
   "metadata": {},
   "outputs": [],
   "source": [
    "users_counts = rating['user_id'].value_counts().rename('users_counts')\n",
    "users_data   = rating.merge(users_counts.to_frame(),\n",
    "                                left_on='user_id',\n",
    "                                right_index=True)"
   ]
  },
  {
   "cell_type": "code",
   "execution_count": 36,
   "id": "55438645",
   "metadata": {},
   "outputs": [
    {
     "data": {
      "text/html": [
       "<div>\n",
       "<style scoped>\n",
       "    .dataframe tbody tr th:only-of-type {\n",
       "        vertical-align: middle;\n",
       "    }\n",
       "\n",
       "    .dataframe tbody tr th {\n",
       "        vertical-align: top;\n",
       "    }\n",
       "\n",
       "    .dataframe thead th {\n",
       "        text-align: right;\n",
       "    }\n",
       "</style>\n",
       "<table border=\"1\" class=\"dataframe\">\n",
       "  <thead>\n",
       "    <tr style=\"text-align: right;\">\n",
       "      <th></th>\n",
       "      <th>user_id</th>\n",
       "      <th>product_id</th>\n",
       "      <th>rating</th>\n",
       "      <th>timestamp</th>\n",
       "      <th>users_counts</th>\n",
       "    </tr>\n",
       "  </thead>\n",
       "  <tbody>\n",
       "    <tr>\n",
       "      <th>6</th>\n",
       "      <td>A3J3BRHTDRFJ2G</td>\n",
       "      <td>0511189877</td>\n",
       "      <td>2.0</td>\n",
       "      <td>1397433600</td>\n",
       "      <td>19</td>\n",
       "    </tr>\n",
       "    <tr>\n",
       "      <th>125473</th>\n",
       "      <td>A3J3BRHTDRFJ2G</td>\n",
       "      <td>B00005TQ09</td>\n",
       "      <td>2.0</td>\n",
       "      <td>1029283200</td>\n",
       "      <td>19</td>\n",
       "    </tr>\n",
       "    <tr>\n",
       "      <th>334862</th>\n",
       "      <td>A3J3BRHTDRFJ2G</td>\n",
       "      <td>B0000C47QL</td>\n",
       "      <td>3.0</td>\n",
       "      <td>1236470400</td>\n",
       "      <td>19</td>\n",
       "    </tr>\n",
       "    <tr>\n",
       "      <th>412476</th>\n",
       "      <td>A3J3BRHTDRFJ2G</td>\n",
       "      <td>B0001Y7UAI</td>\n",
       "      <td>4.0</td>\n",
       "      <td>1329523200</td>\n",
       "      <td>19</td>\n",
       "    </tr>\n",
       "    <tr>\n",
       "      <th>416258</th>\n",
       "      <td>A3J3BRHTDRFJ2G</td>\n",
       "      <td>B00020BJA8</td>\n",
       "      <td>4.0</td>\n",
       "      <td>1373760000</td>\n",
       "      <td>19</td>\n",
       "    </tr>\n",
       "  </tbody>\n",
       "</table>\n",
       "</div>"
      ],
      "text/plain": [
       "               user_id  product_id  rating   timestamp  users_counts\n",
       "6       A3J3BRHTDRFJ2G  0511189877     2.0  1397433600            19\n",
       "125473  A3J3BRHTDRFJ2G  B00005TQ09     2.0  1029283200            19\n",
       "334862  A3J3BRHTDRFJ2G  B0000C47QL     3.0  1236470400            19\n",
       "412476  A3J3BRHTDRFJ2G  B0001Y7UAI     4.0  1329523200            19\n",
       "416258  A3J3BRHTDRFJ2G  B00020BJA8     4.0  1373760000            19"
      ]
     },
     "execution_count": 36,
     "metadata": {},
     "output_type": "execute_result"
    }
   ],
   "source": [
    "subset_df = users_data[users_data.users_counts >= 12]\n",
    "subset_df.head()"
   ]
  },
  {
   "cell_type": "code",
   "execution_count": 37,
   "id": "2a0d9e51",
   "metadata": {},
   "outputs": [
    {
     "data": {
      "text/plain": [
       "874177"
      ]
     },
     "execution_count": 37,
     "metadata": {},
     "output_type": "execute_result"
    }
   ],
   "source": [
    "len(subset_df)"
   ]
  },
  {
   "cell_type": "code",
   "execution_count": 38,
   "id": "5460d212",
   "metadata": {},
   "outputs": [],
   "source": [
    "product_rating_counts = subset_df['product_id'].value_counts().rename('product_rating_counts')\n",
    "product_rating_data   = subset_df.merge(product_rating_counts.to_frame(),\n",
    "                                left_on='product_id',\n",
    "                                right_index=True)"
   ]
  },
  {
   "cell_type": "code",
   "execution_count": 39,
   "id": "700316cb",
   "metadata": {},
   "outputs": [
    {
     "data": {
      "text/html": [
       "<div>\n",
       "<style scoped>\n",
       "    .dataframe tbody tr th:only-of-type {\n",
       "        vertical-align: middle;\n",
       "    }\n",
       "\n",
       "    .dataframe tbody tr th {\n",
       "        vertical-align: top;\n",
       "    }\n",
       "\n",
       "    .dataframe thead th {\n",
       "        text-align: right;\n",
       "    }\n",
       "</style>\n",
       "<table border=\"1\" class=\"dataframe\">\n",
       "  <thead>\n",
       "    <tr style=\"text-align: right;\">\n",
       "      <th></th>\n",
       "      <th>user_id</th>\n",
       "      <th>product_id</th>\n",
       "      <th>rating</th>\n",
       "      <th>timestamp</th>\n",
       "      <th>users_counts</th>\n",
       "      <th>product_rating_counts</th>\n",
       "    </tr>\n",
       "  </thead>\n",
       "  <tbody>\n",
       "    <tr>\n",
       "      <th>125473</th>\n",
       "      <td>A3J3BRHTDRFJ2G</td>\n",
       "      <td>B00005TQ09</td>\n",
       "      <td>2.0</td>\n",
       "      <td>1029283200</td>\n",
       "      <td>19</td>\n",
       "      <td>5</td>\n",
       "    </tr>\n",
       "    <tr>\n",
       "      <th>125503</th>\n",
       "      <td>AXNQ3UXQ3P5HE</td>\n",
       "      <td>B00005TQ09</td>\n",
       "      <td>4.0</td>\n",
       "      <td>1052006400</td>\n",
       "      <td>16</td>\n",
       "      <td>5</td>\n",
       "    </tr>\n",
       "    <tr>\n",
       "      <th>125496</th>\n",
       "      <td>AUNJSK273Z367</td>\n",
       "      <td>B00005TQ09</td>\n",
       "      <td>5.0</td>\n",
       "      <td>1028678400</td>\n",
       "      <td>25</td>\n",
       "      <td>5</td>\n",
       "    </tr>\n",
       "    <tr>\n",
       "      <th>125478</th>\n",
       "      <td>A2RATH5QG78TYE</td>\n",
       "      <td>B00005TQ09</td>\n",
       "      <td>4.0</td>\n",
       "      <td>1074902400</td>\n",
       "      <td>12</td>\n",
       "      <td>5</td>\n",
       "    </tr>\n",
       "    <tr>\n",
       "      <th>125505</th>\n",
       "      <td>A2YHVQ83C7VLGV</td>\n",
       "      <td>B00005TQ09</td>\n",
       "      <td>3.0</td>\n",
       "      <td>1080604800</td>\n",
       "      <td>13</td>\n",
       "      <td>5</td>\n",
       "    </tr>\n",
       "  </tbody>\n",
       "</table>\n",
       "</div>"
      ],
      "text/plain": [
       "               user_id  product_id  rating   timestamp  users_counts  \\\n",
       "125473  A3J3BRHTDRFJ2G  B00005TQ09     2.0  1029283200            19   \n",
       "125503   AXNQ3UXQ3P5HE  B00005TQ09     4.0  1052006400            16   \n",
       "125496   AUNJSK273Z367  B00005TQ09     5.0  1028678400            25   \n",
       "125478  A2RATH5QG78TYE  B00005TQ09     4.0  1074902400            12   \n",
       "125505  A2YHVQ83C7VLGV  B00005TQ09     3.0  1080604800            13   \n",
       "\n",
       "        product_rating_counts  \n",
       "125473                      5  \n",
       "125503                      5  \n",
       "125496                      5  \n",
       "125478                      5  \n",
       "125505                      5  "
      ]
     },
     "execution_count": 39,
     "metadata": {},
     "output_type": "execute_result"
    }
   ],
   "source": [
    "product_rating_data = product_rating_data[product_rating_data.product_rating_counts >=3]\n",
    "product_rating_data.head()"
   ]
  },
  {
   "cell_type": "code",
   "execution_count": 40,
   "id": "46cae0e9",
   "metadata": {},
   "outputs": [
    {
     "data": {
      "text/plain": [
       "55094"
      ]
     },
     "execution_count": 40,
     "metadata": {},
     "output_type": "execute_result"
    }
   ],
   "source": [
    "len(product_rating_data['product_id'].unique())"
   ]
  },
  {
   "cell_type": "code",
   "execution_count": 41,
   "id": "4c163cea",
   "metadata": {},
   "outputs": [],
   "source": [
    "products = products[:55094]"
   ]
  },
  {
   "cell_type": "code",
   "execution_count": 42,
   "id": "37076afc",
   "metadata": {},
   "outputs": [],
   "source": [
    "products['product_id'] = product_rating_data['product_id'].unique()"
   ]
  },
  {
   "cell_type": "code",
   "execution_count": 43,
   "id": "246f31e3",
   "metadata": {},
   "outputs": [
    {
     "data": {
      "text/html": [
       "<div>\n",
       "<style scoped>\n",
       "    .dataframe tbody tr th:only-of-type {\n",
       "        vertical-align: middle;\n",
       "    }\n",
       "\n",
       "    .dataframe tbody tr th {\n",
       "        vertical-align: top;\n",
       "    }\n",
       "\n",
       "    .dataframe thead th {\n",
       "        text-align: right;\n",
       "    }\n",
       "</style>\n",
       "<table border=\"1\" class=\"dataframe\">\n",
       "  <thead>\n",
       "    <tr style=\"text-align: right;\">\n",
       "      <th></th>\n",
       "      <th>title</th>\n",
       "      <th>price</th>\n",
       "      <th>rating</th>\n",
       "      <th>description</th>\n",
       "      <th>product_id</th>\n",
       "    </tr>\n",
       "  </thead>\n",
       "  <tbody>\n",
       "    <tr>\n",
       "      <th>0</th>\n",
       "      <td>Comfort Perfume Deluxe After Wash Fabric Condi...</td>\n",
       "      <td>₹238.00</td>\n",
       "      <td>4.3 out of 5 stars</td>\n",
       "      <td>\\n About this item    Add comfort fabric cond...</td>\n",
       "      <td>B00005TQ09</td>\n",
       "    </tr>\n",
       "    <tr>\n",
       "      <th>1</th>\n",
       "      <td>VillageTiger Washable, Reusable 5 Layer Respir...</td>\n",
       "      <td>₹249.00</td>\n",
       "      <td>4.0 out of 5 stars</td>\n",
       "      <td>\\n About this item    Care Instructions: Hand...</td>\n",
       "      <td>B0001Y7UAI</td>\n",
       "    </tr>\n",
       "    <tr>\n",
       "      <th>2</th>\n",
       "      <td>FIREWELD Welding Safety Face Shield/Head-Mount...</td>\n",
       "      <td>₹279.00</td>\n",
       "      <td>3.4 out of 5 stars</td>\n",
       "      <td>Super lightweight design,plasma cutter face...</td>\n",
       "      <td>B00020BJA8</td>\n",
       "    </tr>\n",
       "    <tr>\n",
       "      <th>3</th>\n",
       "      <td>3M 1100 Ear Plug Corded, Extra Soft, Reusable ...</td>\n",
       "      <td>₹332.00</td>\n",
       "      <td>4.1 out of 5 stars</td>\n",
       "      <td>\\n About this item    Smooth, dirt resistant ...</td>\n",
       "      <td>B000BQ7GW8</td>\n",
       "    </tr>\n",
       "    <tr>\n",
       "      <th>4</th>\n",
       "      <td>Cadbury Bournvita Chocolate Health Drink, 2kg ...</td>\n",
       "      <td>₹670.00</td>\n",
       "      <td>4.4 out of 5 stars</td>\n",
       "      <td>This is a Vegetarian product.   \\n Ab...</td>\n",
       "      <td>B000EPR7XO</td>\n",
       "    </tr>\n",
       "    <tr>\n",
       "      <th>...</th>\n",
       "      <td>...</td>\n",
       "      <td>...</td>\n",
       "      <td>...</td>\n",
       "      <td>...</td>\n",
       "      <td>...</td>\n",
       "    </tr>\n",
       "    <tr>\n",
       "      <th>68944</th>\n",
       "      <td>The Defence: Win the trial. Or lose his life. ...</td>\n",
       "      <td>Page 1 of 1</td>\n",
       "      <td>4.4 out of 5 stars</td>\n",
       "      <td>NaN</td>\n",
       "      <td>B00DKX0NBU</td>\n",
       "    </tr>\n",
       "    <tr>\n",
       "      <th>68945</th>\n",
       "      <td>Toxicology! Because What You Don't Know Can Ki...</td>\n",
       "      <td>₹1,387.00</td>\n",
       "      <td>4.6 out of 5 stars</td>\n",
       "      <td>NaN</td>\n",
       "      <td>B0046TO1ME</td>\n",
       "    </tr>\n",
       "    <tr>\n",
       "      <th>68946</th>\n",
       "      <td>Kiss or Kill</td>\n",
       "      <td>₹900.00</td>\n",
       "      <td>5.0 out of 5 stars</td>\n",
       "      <td>NaN</td>\n",
       "      <td>B001MS2RI2</td>\n",
       "    </tr>\n",
       "    <tr>\n",
       "      <th>68947</th>\n",
       "      <td>Deco Window Roller Blinds for Windows with Pol...</td>\n",
       "      <td>₹1,599.00</td>\n",
       "      <td>4.3 out of 5 stars</td>\n",
       "      <td>\\n About this item    ROLLER BLINDS FOR WINDO...</td>\n",
       "      <td>B00G1YKHES</td>\n",
       "    </tr>\n",
       "    <tr>\n",
       "      <th>68948</th>\n",
       "      <td>PRESTO BAZAAR 1 Piece Polyester Floral Blind -...</td>\n",
       "      <td>₹3,999.00</td>\n",
       "      <td>Previous page</td>\n",
       "      <td>\\n About this item    Width X Height(inches) ...</td>\n",
       "      <td>B00JOQZ4XE</td>\n",
       "    </tr>\n",
       "  </tbody>\n",
       "</table>\n",
       "<p>55094 rows × 5 columns</p>\n",
       "</div>"
      ],
      "text/plain": [
       "                                                   title        price  \\\n",
       "0      Comfort Perfume Deluxe After Wash Fabric Condi...      ₹238.00   \n",
       "1      VillageTiger Washable, Reusable 5 Layer Respir...      ₹249.00   \n",
       "2      FIREWELD Welding Safety Face Shield/Head-Mount...      ₹279.00   \n",
       "3      3M 1100 Ear Plug Corded, Extra Soft, Reusable ...      ₹332.00   \n",
       "4      Cadbury Bournvita Chocolate Health Drink, 2kg ...      ₹670.00   \n",
       "...                                                  ...          ...   \n",
       "68944  The Defence: Win the trial. Or lose his life. ...  Page 1 of 1   \n",
       "68945  Toxicology! Because What You Don't Know Can Ki...    ₹1,387.00   \n",
       "68946                                       Kiss or Kill      ₹900.00   \n",
       "68947  Deco Window Roller Blinds for Windows with Pol...    ₹1,599.00   \n",
       "68948  PRESTO BAZAAR 1 Piece Polyester Floral Blind -...    ₹3,999.00   \n",
       "\n",
       "                   rating                                        description  \\\n",
       "0      4.3 out of 5 stars   \\n About this item    Add comfort fabric cond...   \n",
       "1      4.0 out of 5 stars   \\n About this item    Care Instructions: Hand...   \n",
       "2      3.4 out of 5 stars     Super lightweight design,plasma cutter face...   \n",
       "3      4.1 out of 5 stars   \\n About this item    Smooth, dirt resistant ...   \n",
       "4      4.4 out of 5 stars           This is a Vegetarian product.   \\n Ab...   \n",
       "...                   ...                                                ...   \n",
       "68944  4.4 out of 5 stars                                                NaN   \n",
       "68945  4.6 out of 5 stars                                                NaN   \n",
       "68946  5.0 out of 5 stars                                                NaN   \n",
       "68947  4.3 out of 5 stars   \\n About this item    ROLLER BLINDS FOR WINDO...   \n",
       "68948       Previous page   \\n About this item    Width X Height(inches) ...   \n",
       "\n",
       "       product_id  \n",
       "0      B00005TQ09  \n",
       "1      B0001Y7UAI  \n",
       "2      B00020BJA8  \n",
       "3      B000BQ7GW8  \n",
       "4      B000EPR7XO  \n",
       "...           ...  \n",
       "68944  B00DKX0NBU  \n",
       "68945  B0046TO1ME  \n",
       "68946  B001MS2RI2  \n",
       "68947  B00G1YKHES  \n",
       "68948  B00JOQZ4XE  \n",
       "\n",
       "[55094 rows x 5 columns]"
      ]
     },
     "execution_count": 43,
     "metadata": {},
     "output_type": "execute_result"
    }
   ],
   "source": [
    "products"
   ]
  },
  {
   "cell_type": "code",
   "execution_count": 44,
   "id": "b0b54fc9",
   "metadata": {},
   "outputs": [],
   "source": [
    "products.to_csv('cleaned_product_data1.csv', columns=['product_id', 'title', 'price', 'rating', 'description'], header=True, index=False)"
   ]
  },
  {
   "cell_type": "code",
   "execution_count": 45,
   "id": "54d16c7a",
   "metadata": {},
   "outputs": [
    {
     "data": {
      "text/html": [
       "<div>\n",
       "<style scoped>\n",
       "    .dataframe tbody tr th:only-of-type {\n",
       "        vertical-align: middle;\n",
       "    }\n",
       "\n",
       "    .dataframe tbody tr th {\n",
       "        vertical-align: top;\n",
       "    }\n",
       "\n",
       "    .dataframe thead th {\n",
       "        text-align: right;\n",
       "    }\n",
       "</style>\n",
       "<table border=\"1\" class=\"dataframe\">\n",
       "  <thead>\n",
       "    <tr style=\"text-align: right;\">\n",
       "      <th></th>\n",
       "      <th>product_id</th>\n",
       "      <th>title</th>\n",
       "      <th>price</th>\n",
       "      <th>rating</th>\n",
       "      <th>description</th>\n",
       "    </tr>\n",
       "  </thead>\n",
       "  <tbody>\n",
       "    <tr>\n",
       "      <th>0</th>\n",
       "      <td>B00005TQ09</td>\n",
       "      <td>Comfort Perfume Deluxe After Wash Fabric Condi...</td>\n",
       "      <td>₹238.00</td>\n",
       "      <td>4.3 out of 5 stars</td>\n",
       "      <td>\\n About this item    Add comfort fabric cond...</td>\n",
       "    </tr>\n",
       "    <tr>\n",
       "      <th>1</th>\n",
       "      <td>B0001Y7UAI</td>\n",
       "      <td>VillageTiger Washable, Reusable 5 Layer Respir...</td>\n",
       "      <td>₹249.00</td>\n",
       "      <td>4.0 out of 5 stars</td>\n",
       "      <td>\\n About this item    Care Instructions: Hand...</td>\n",
       "    </tr>\n",
       "    <tr>\n",
       "      <th>2</th>\n",
       "      <td>B00020BJA8</td>\n",
       "      <td>FIREWELD Welding Safety Face Shield/Head-Mount...</td>\n",
       "      <td>₹279.00</td>\n",
       "      <td>3.4 out of 5 stars</td>\n",
       "      <td>Super lightweight design,plasma cutter face...</td>\n",
       "    </tr>\n",
       "    <tr>\n",
       "      <th>3</th>\n",
       "      <td>B000BQ7GW8</td>\n",
       "      <td>3M 1100 Ear Plug Corded, Extra Soft, Reusable ...</td>\n",
       "      <td>₹332.00</td>\n",
       "      <td>4.1 out of 5 stars</td>\n",
       "      <td>\\n About this item    Smooth, dirt resistant ...</td>\n",
       "    </tr>\n",
       "    <tr>\n",
       "      <th>4</th>\n",
       "      <td>B000EPR7XO</td>\n",
       "      <td>Cadbury Bournvita Chocolate Health Drink, 2kg ...</td>\n",
       "      <td>₹670.00</td>\n",
       "      <td>4.4 out of 5 stars</td>\n",
       "      <td>This is a Vegetarian product.   \\n Ab...</td>\n",
       "    </tr>\n",
       "    <tr>\n",
       "      <th>...</th>\n",
       "      <td>...</td>\n",
       "      <td>...</td>\n",
       "      <td>...</td>\n",
       "      <td>...</td>\n",
       "      <td>...</td>\n",
       "    </tr>\n",
       "    <tr>\n",
       "      <th>55089</th>\n",
       "      <td>B00DKX0NBU</td>\n",
       "      <td>The Defence: Win the trial. Or lose his life. ...</td>\n",
       "      <td>Page 1 of 1</td>\n",
       "      <td>4.4 out of 5 stars</td>\n",
       "      <td>NaN</td>\n",
       "    </tr>\n",
       "    <tr>\n",
       "      <th>55090</th>\n",
       "      <td>B0046TO1ME</td>\n",
       "      <td>Toxicology! Because What You Don't Know Can Ki...</td>\n",
       "      <td>₹1,387.00</td>\n",
       "      <td>4.6 out of 5 stars</td>\n",
       "      <td>NaN</td>\n",
       "    </tr>\n",
       "    <tr>\n",
       "      <th>55091</th>\n",
       "      <td>B001MS2RI2</td>\n",
       "      <td>Kiss or Kill</td>\n",
       "      <td>₹900.00</td>\n",
       "      <td>5.0 out of 5 stars</td>\n",
       "      <td>NaN</td>\n",
       "    </tr>\n",
       "    <tr>\n",
       "      <th>55092</th>\n",
       "      <td>B00G1YKHES</td>\n",
       "      <td>Deco Window Roller Blinds for Windows with Pol...</td>\n",
       "      <td>₹1,599.00</td>\n",
       "      <td>4.3 out of 5 stars</td>\n",
       "      <td>\\n About this item    ROLLER BLINDS FOR WINDO...</td>\n",
       "    </tr>\n",
       "    <tr>\n",
       "      <th>55093</th>\n",
       "      <td>B00JOQZ4XE</td>\n",
       "      <td>PRESTO BAZAAR 1 Piece Polyester Floral Blind -...</td>\n",
       "      <td>₹3,999.00</td>\n",
       "      <td>Previous page</td>\n",
       "      <td>\\n About this item    Width X Height(inches) ...</td>\n",
       "    </tr>\n",
       "  </tbody>\n",
       "</table>\n",
       "<p>55094 rows × 5 columns</p>\n",
       "</div>"
      ],
      "text/plain": [
       "       product_id                                              title  \\\n",
       "0      B00005TQ09  Comfort Perfume Deluxe After Wash Fabric Condi...   \n",
       "1      B0001Y7UAI  VillageTiger Washable, Reusable 5 Layer Respir...   \n",
       "2      B00020BJA8  FIREWELD Welding Safety Face Shield/Head-Mount...   \n",
       "3      B000BQ7GW8  3M 1100 Ear Plug Corded, Extra Soft, Reusable ...   \n",
       "4      B000EPR7XO  Cadbury Bournvita Chocolate Health Drink, 2kg ...   \n",
       "...           ...                                                ...   \n",
       "55089  B00DKX0NBU  The Defence: Win the trial. Or lose his life. ...   \n",
       "55090  B0046TO1ME  Toxicology! Because What You Don't Know Can Ki...   \n",
       "55091  B001MS2RI2                                       Kiss or Kill   \n",
       "55092  B00G1YKHES  Deco Window Roller Blinds for Windows with Pol...   \n",
       "55093  B00JOQZ4XE  PRESTO BAZAAR 1 Piece Polyester Floral Blind -...   \n",
       "\n",
       "             price              rating  \\\n",
       "0          ₹238.00  4.3 out of 5 stars   \n",
       "1          ₹249.00  4.0 out of 5 stars   \n",
       "2          ₹279.00  3.4 out of 5 stars   \n",
       "3          ₹332.00  4.1 out of 5 stars   \n",
       "4          ₹670.00  4.4 out of 5 stars   \n",
       "...            ...                 ...   \n",
       "55089  Page 1 of 1  4.4 out of 5 stars   \n",
       "55090    ₹1,387.00  4.6 out of 5 stars   \n",
       "55091      ₹900.00  5.0 out of 5 stars   \n",
       "55092    ₹1,599.00  4.3 out of 5 stars   \n",
       "55093    ₹3,999.00       Previous page   \n",
       "\n",
       "                                             description  \n",
       "0       \\n About this item    Add comfort fabric cond...  \n",
       "1       \\n About this item    Care Instructions: Hand...  \n",
       "2         Super lightweight design,plasma cutter face...  \n",
       "3       \\n About this item    Smooth, dirt resistant ...  \n",
       "4               This is a Vegetarian product.   \\n Ab...  \n",
       "...                                                  ...  \n",
       "55089                                                NaN  \n",
       "55090                                                NaN  \n",
       "55091                                                NaN  \n",
       "55092   \\n About this item    ROLLER BLINDS FOR WINDO...  \n",
       "55093   \\n About this item    Width X Height(inches) ...  \n",
       "\n",
       "[55094 rows x 5 columns]"
      ]
     },
     "execution_count": 45,
     "metadata": {},
     "output_type": "execute_result"
    }
   ],
   "source": [
    "pd.read_csv('cleaned_product_data1.csv')"
   ]
  },
  {
   "cell_type": "code",
   "execution_count": 46,
   "id": "18648653",
   "metadata": {},
   "outputs": [
    {
     "data": {
      "text/html": [
       "<div>\n",
       "<style scoped>\n",
       "    .dataframe tbody tr th:only-of-type {\n",
       "        vertical-align: middle;\n",
       "    }\n",
       "\n",
       "    .dataframe tbody tr th {\n",
       "        vertical-align: top;\n",
       "    }\n",
       "\n",
       "    .dataframe thead th {\n",
       "        text-align: right;\n",
       "    }\n",
       "</style>\n",
       "<table border=\"1\" class=\"dataframe\">\n",
       "  <thead>\n",
       "    <tr style=\"text-align: right;\">\n",
       "      <th></th>\n",
       "      <th>user_id</th>\n",
       "      <th>product_id</th>\n",
       "      <th>rating</th>\n",
       "      <th>timestamp</th>\n",
       "      <th>users_counts</th>\n",
       "      <th>product_rating_counts</th>\n",
       "    </tr>\n",
       "  </thead>\n",
       "  <tbody>\n",
       "    <tr>\n",
       "      <th>125473</th>\n",
       "      <td>A3J3BRHTDRFJ2G</td>\n",
       "      <td>B00005TQ09</td>\n",
       "      <td>2.0</td>\n",
       "      <td>1029283200</td>\n",
       "      <td>19</td>\n",
       "      <td>5</td>\n",
       "    </tr>\n",
       "    <tr>\n",
       "      <th>125503</th>\n",
       "      <td>AXNQ3UXQ3P5HE</td>\n",
       "      <td>B00005TQ09</td>\n",
       "      <td>4.0</td>\n",
       "      <td>1052006400</td>\n",
       "      <td>16</td>\n",
       "      <td>5</td>\n",
       "    </tr>\n",
       "    <tr>\n",
       "      <th>125496</th>\n",
       "      <td>AUNJSK273Z367</td>\n",
       "      <td>B00005TQ09</td>\n",
       "      <td>5.0</td>\n",
       "      <td>1028678400</td>\n",
       "      <td>25</td>\n",
       "      <td>5</td>\n",
       "    </tr>\n",
       "    <tr>\n",
       "      <th>125478</th>\n",
       "      <td>A2RATH5QG78TYE</td>\n",
       "      <td>B00005TQ09</td>\n",
       "      <td>4.0</td>\n",
       "      <td>1074902400</td>\n",
       "      <td>12</td>\n",
       "      <td>5</td>\n",
       "    </tr>\n",
       "    <tr>\n",
       "      <th>125505</th>\n",
       "      <td>A2YHVQ83C7VLGV</td>\n",
       "      <td>B00005TQ09</td>\n",
       "      <td>3.0</td>\n",
       "      <td>1080604800</td>\n",
       "      <td>13</td>\n",
       "      <td>5</td>\n",
       "    </tr>\n",
       "    <tr>\n",
       "      <th>...</th>\n",
       "      <td>...</td>\n",
       "      <td>...</td>\n",
       "      <td>...</td>\n",
       "      <td>...</td>\n",
       "      <td>...</td>\n",
       "      <td>...</td>\n",
       "    </tr>\n",
       "    <tr>\n",
       "      <th>7672539</th>\n",
       "      <td>A1B1FUA0CR7LGK</td>\n",
       "      <td>B00G1YKHES</td>\n",
       "      <td>5.0</td>\n",
       "      <td>1399680000</td>\n",
       "      <td>20</td>\n",
       "      <td>3</td>\n",
       "    </tr>\n",
       "    <tr>\n",
       "      <th>7672522</th>\n",
       "      <td>A1NB945QH1SSJ9</td>\n",
       "      <td>B00G1YKHES</td>\n",
       "      <td>4.0</td>\n",
       "      <td>1390003200</td>\n",
       "      <td>33</td>\n",
       "      <td>3</td>\n",
       "    </tr>\n",
       "    <tr>\n",
       "      <th>7814617</th>\n",
       "      <td>A2D9UYPELHD5BY</td>\n",
       "      <td>B00JOQZ4XE</td>\n",
       "      <td>5.0</td>\n",
       "      <td>1399507200</td>\n",
       "      <td>25</td>\n",
       "      <td>3</td>\n",
       "    </tr>\n",
       "    <tr>\n",
       "      <th>7814619</th>\n",
       "      <td>A2TELH3ZGLFH93</td>\n",
       "      <td>B00JOQZ4XE</td>\n",
       "      <td>5.0</td>\n",
       "      <td>1404864000</td>\n",
       "      <td>13</td>\n",
       "      <td>3</td>\n",
       "    </tr>\n",
       "    <tr>\n",
       "      <th>7814616</th>\n",
       "      <td>A1337NU4KXQVVW</td>\n",
       "      <td>B00JOQZ4XE</td>\n",
       "      <td>3.0</td>\n",
       "      <td>1404950400</td>\n",
       "      <td>13</td>\n",
       "      <td>3</td>\n",
       "    </tr>\n",
       "  </tbody>\n",
       "</table>\n",
       "<p>731786 rows × 6 columns</p>\n",
       "</div>"
      ],
      "text/plain": [
       "                user_id  product_id  rating   timestamp  users_counts  \\\n",
       "125473   A3J3BRHTDRFJ2G  B00005TQ09     2.0  1029283200            19   \n",
       "125503    AXNQ3UXQ3P5HE  B00005TQ09     4.0  1052006400            16   \n",
       "125496    AUNJSK273Z367  B00005TQ09     5.0  1028678400            25   \n",
       "125478   A2RATH5QG78TYE  B00005TQ09     4.0  1074902400            12   \n",
       "125505   A2YHVQ83C7VLGV  B00005TQ09     3.0  1080604800            13   \n",
       "...                 ...         ...     ...         ...           ...   \n",
       "7672539  A1B1FUA0CR7LGK  B00G1YKHES     5.0  1399680000            20   \n",
       "7672522  A1NB945QH1SSJ9  B00G1YKHES     4.0  1390003200            33   \n",
       "7814617  A2D9UYPELHD5BY  B00JOQZ4XE     5.0  1399507200            25   \n",
       "7814619  A2TELH3ZGLFH93  B00JOQZ4XE     5.0  1404864000            13   \n",
       "7814616  A1337NU4KXQVVW  B00JOQZ4XE     3.0  1404950400            13   \n",
       "\n",
       "         product_rating_counts  \n",
       "125473                       5  \n",
       "125503                       5  \n",
       "125496                       5  \n",
       "125478                       5  \n",
       "125505                       5  \n",
       "...                        ...  \n",
       "7672539                      3  \n",
       "7672522                      3  \n",
       "7814617                      3  \n",
       "7814619                      3  \n",
       "7814616                      3  \n",
       "\n",
       "[731786 rows x 6 columns]"
      ]
     },
     "execution_count": 46,
     "metadata": {},
     "output_type": "execute_result"
    }
   ],
   "source": [
    "product_rating_data"
   ]
  },
  {
   "cell_type": "code",
   "execution_count": 47,
   "id": "1053f177",
   "metadata": {},
   "outputs": [],
   "source": [
    "product_rating_data.to_csv('cleaned_ratings_data1.csv', columns=['user_id','product_id', 'rating', 'timestamp'], header=True, index=False)"
   ]
  },
  {
   "cell_type": "code",
   "execution_count": 48,
   "id": "14d89c76",
   "metadata": {},
   "outputs": [
    {
     "data": {
      "text/plain": [
       "42492"
      ]
     },
     "execution_count": 48,
     "metadata": {},
     "output_type": "execute_result"
    }
   ],
   "source": [
    "len(pd.read_csv('cleaned_ratings_data1.csv')['user_id'].unique())"
   ]
  },
  {
   "cell_type": "code",
   "execution_count": null,
   "id": "44ec565e",
   "metadata": {},
   "outputs": [],
   "source": []
  }
 ],
 "metadata": {
  "kernelspec": {
   "display_name": "Python 3 (ipykernel)",
   "language": "python",
   "name": "python3"
  },
  "language_info": {
   "codemirror_mode": {
    "name": "ipython",
    "version": 3
   },
   "file_extension": ".py",
   "mimetype": "text/x-python",
   "name": "python",
   "nbconvert_exporter": "python",
   "pygments_lexer": "ipython3",
   "version": "3.10.8"
  }
 },
 "nbformat": 4,
 "nbformat_minor": 5
}
